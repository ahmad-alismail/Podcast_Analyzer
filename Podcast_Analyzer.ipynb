{
 "cells": [
  {
   "attachments": {},
   "cell_type": "markdown",
   "metadata": {},
   "source": [
    "https://github.com/Kabanosk/whisper-website\n",
    "https://github.com/openai/whisper/discussions/264"
   ]
  },
  {
   "cell_type": "code",
   "execution_count": null,
   "metadata": {},
   "outputs": [],
   "source": [
    "# %%capture\n",
    "# %pip install python-dotenv"
   ]
  },
  {
   "cell_type": "code",
   "execution_count": 1,
   "metadata": {},
   "outputs": [],
   "source": [
    "# Import libraries\n",
    "import pandas as pd\n",
    "import numpy as np\n",
    "import yt_dlp\n",
    "import unzip\n",
    "from typing import List, Callable, Optional, Dict\n",
    "\n",
    "# increase column width\n",
    "pd.set_option('display.max_colwidth', 1000)\n",
    "pd.set_option('display.max_rows', None)"
   ]
  },
  {
   "attachments": {},
   "cell_type": "markdown",
   "metadata": {},
   "source": [
    "# Download Audio and Transcribe"
   ]
  },
  {
   "cell_type": "code",
   "execution_count": 2,
   "metadata": {},
   "outputs": [],
   "source": [
    "VIDEO_URL = \"https://youtu.be/DgTjSrrf6GQ\"\n",
    "AUDIO_FILE_NAME = \"./data/audio/Lex_Podcast.mp3\"\n",
    "AUDIO_QUALITY = 5 # 0 best - 10 worst (default 5)\n",
    "AUDIO_FORMAT = \"mp3\"\n",
    "FFMPEG_LOCATION = \"ffmpeg-master-latest-win64-gpl/bin\"\n",
    "SUBTITLE_LANGUAGE = \"en.*\"\n",
    "TRANSCRIPT_FILE_NAME = \"./data/transcript.txt\"\n",
    "SUBTITLE_FORMAT = \"srt\""
   ]
  },
  {
   "cell_type": "code",
   "execution_count": null,
   "metadata": {},
   "outputs": [],
   "source": [
    "import wget\n",
    "import os\n",
    "import zipfile\n",
    "\n",
    "FFMPEG_URL = 'https://github.com/yt-dlp/FFmpeg-Builds/releases/download/latest/ffmpeg-master-latest-win64-gpl.zip'\n",
    "ZIP_PATH = './ffmpeg.zip'\n",
    "EXTRACT_DIR = './'\n",
    "\n",
    "if not os.path.exists(ZIP_PATH):\n",
    "    print('Downloading ffmpeg...')\n",
    "    wget.download(FFMPEG_URL, ZIP_PATH)\n",
    "\n",
    "    print('Unzipping...') \n",
    "    with zipfile.ZipFile(ZIP_PATH, 'r') as zip_ref:\n",
    "        zip_ref.extractall(EXTRACT_DIR)\n",
    "    \n",
    "    print('Removing zip file...')\n",
    "    os.remove(ZIP_PATH)\n",
    "\n",
    "else:\n",
    "    print('Already downloaded.')"
   ]
  },
  {
   "cell_type": "code",
   "execution_count": null,
   "metadata": {},
   "outputs": [],
   "source": [
    "!yt-dlp -xv --ffmpeg-location ffmpeg-master-latest-win64-gpl/bin --audio-format mp3  -o data/audio/Lex_Podcast -- {\"https://youtu.be/DEu24V8vfb8\"}\n",
    "#!yt-dlp -xv --ffmpeg-location {FFMPEG_LOCATION} --audio-format {AUDIO_FORMAT}  -o {AUDIO_FILE_NAME} -- {\"https://youtu.be/DEu24V8vfb8\"}"
   ]
  },
  {
   "cell_type": "code",
   "execution_count": null,
   "metadata": {},
   "outputs": [],
   "source": [
    "import openai\n",
    "from dotenv import load_dotenv, find_dotenv\n",
    "import os\n",
    "\n",
    "_ = load_dotenv(find_dotenv())  # add .env to .gitignore\n",
    "openai.api_key = os.getenv(\"OPENAI_API_KEY\")\n"
   ]
  },
  {
   "cell_type": "code",
   "execution_count": null,
   "metadata": {},
   "outputs": [],
   "source": [
    "audio_file = open(\"data/audio/Lexicap.mp3\", \"rb\")\n",
    "transcript = openai.Audio.transcribe(\"whisper-1\", audio_file, response_format=SUBTITLE_FORMAT)"
   ]
  },
  {
   "cell_type": "code",
   "execution_count": null,
   "metadata": {},
   "outputs": [],
   "source": [
    "# with open(\"langchain.srt\", \"w\") as f:\n",
    "#     f.write(transcript)"
   ]
  },
  {
   "attachments": {},
   "cell_type": "markdown",
   "metadata": {},
   "source": [
    "## Longer Inputs\n",
    "By default, the Whisper API only supports files that are less than 25 MB. If you have an audio file that is longer than that, you will need to break it up into chunks of 25 MB's or less or used a compressed audio format. To get the best performance, we suggest that you avoid breaking the audio up mid-sentence as this may cause some context to be lost.\n",
    "\n",
    "One way to handle this is to use the [PyDub open source Python package](https://github.com/jiaaro/pydub) to split the audio:"
   ]
  },
  {
   "cell_type": "code",
   "execution_count": null,
   "metadata": {},
   "outputs": [],
   "source": [
    "from pydub import AudioSegment\n",
    "\n",
    "song = AudioSegment.from_mp3(\"good_morning.mp3\")\n",
    "\n",
    "# PyDub handles time in milliseconds\n",
    "ten_minutes = 10 * 60 * 1000\n",
    "\n",
    "first_10_minutes = song[:ten_minutes]\n",
    "\n",
    "first_10_minutes.export(\"good_morning_10.mp3\", format=\"mp3\")"
   ]
  },
  {
   "attachments": {},
   "cell_type": "markdown",
   "metadata": {},
   "source": [
    "### Prompting\n",
    "* Check out [OpenAI](https://platform.openai.com/docs/guides/speech-to-text/prompting)"
   ]
  },
  {
   "attachments": {},
   "cell_type": "markdown",
   "metadata": {},
   "source": [
    "# Download Transcript"
   ]
  },
  {
   "cell_type": "code",
   "execution_count": null,
   "metadata": {},
   "outputs": [],
   "source": [
    "# Download the transcript with yt-dlp\n",
    "!yt-dlp --write-auto-sub --skip-download --sub-format {SUBTITLE_FORMAT} --sub-lang {SUBTITLE_LANGUAGE} --output {TRANSCRIPT_FILE_NAME} -- {VIDEO_URL}"
   ]
  },
  {
   "attachments": {},
   "cell_type": "markdown",
   "metadata": {},
   "source": [
    "## Data Preparation\n",
    "Let's change the name of the raw caption files:"
   ]
  },
  {
   "cell_type": "code",
   "execution_count": null,
   "metadata": {},
   "outputs": [],
   "source": [
    "# Get a clean list of podcast titles\n",
    "import re \n",
    "\n",
    "def clean_titles(title):\n",
    "    title = re.sub(r'\\[(.*?)\\]\\((.*?)\\)', r'\\1', title)\n",
    "    title = re.sub(r'\\|.*?\\d+', '', title)\n",
    "    title = title.rstrip().replace(' ', '_').replace(':', '_').replace('&','and').lower()\n",
    "    title = re.sub(r'[^a-zA-Z0-9_]', '', title)\n",
    "    return title\n",
    "\n",
    "with open('./data/Lexicap.md', 'r') as f:\n",
    "    text = f.read()\n",
    "\n",
    "titles = text.split('\\n')\n",
    "titles = [clean_titles(title) for title in titles if title != '']"
   ]
  },
  {
   "cell_type": "code",
   "execution_count": null,
   "metadata": {},
   "outputs": [],
   "source": [
    "# Rename the transcript files\n",
    "import os\n",
    "\n",
    "TRANSCRIPT_PATH = \"./data/transcripts/\"\n",
    "FILE_EXTENSION = '.vtt'\n",
    "\n",
    "for org_filename, line_idx in zip(os.listdir(path=TRANSCRIPT_PATH), titles):\n",
    "    if org_filename.endswith(FILE_EXTENSION):\n",
    "        print(org_filename)\n",
    "        # rename file \n",
    "        new_filename = f\"{line_idx}{FILE_EXTENSION}\"\n",
    "        os.rename(f\"{TRANSCRIPT_PATH}{org_filename}\", f\"{TRANSCRIPT_PATH}{new_filename}\")"
   ]
  },
  {
   "attachments": {},
   "cell_type": "markdown",
   "metadata": {},
   "source": [
    "# Start\n",
    "### Data Cleaning"
   ]
  },
  {
   "cell_type": "code",
   "execution_count": 3,
   "metadata": {},
   "outputs": [],
   "source": [
    "TRANSCRIPT_PATH = \"./data/transcripts/\"\n",
    "FILE_EXTENSION = '.vtt'"
   ]
  },
  {
   "cell_type": "code",
   "execution_count": 4,
   "metadata": {},
   "outputs": [],
   "source": [
    "# Create new transcript file with timestamp and text\n",
    "TRANSCRIPT_FILE_NAME = \"45_michio_kaku__future_of_humans_aliens_space_travel_and_physics.vtt\"\n",
    "NEW_TRANSCRIPT_FILE_NAME = \"45_michio_kaku__future_of_humans_aliens_space_travel_and_physics.csv\"\n",
    "\n",
    "\n",
    "with open(f\"{TRANSCRIPT_PATH}{TRANSCRIPT_FILE_NAME}\") as oldfile, open(f\"{NEW_TRANSCRIPT_FILE_NAME}\", 'w') as newfile:\n",
    "    old_lines = oldfile.read().split('\\n')\n",
    "    clean_lines = [line for line in old_lines if line not in ['', 'WEBVTT']]\n",
    "\n",
    "    for line_idx in range(0, len(clean_lines)-1, 2):\n",
    "         timestamp = clean_lines[line_idx].split('-->')[0].strip()\n",
    "         # Standardize timestamp format\n",
    "         timestamp = \"00:\" + timestamp if len(timestamp.split(':')) < 3 else timestamp\n",
    "         timestamp = \"0\" + timestamp if len(timestamp.split(':')[0]) < 2 else timestamp\n",
    "         text = clean_lines[line_idx+1].rstrip()\n",
    "         new_line = f\"{timestamp};{text}\\n\"\n",
    "         newfile.write(new_line)\n"
   ]
  },
  {
   "cell_type": "code",
   "execution_count": 5,
   "metadata": {},
   "outputs": [
    {
     "data": {
      "text/html": [
       "<div>\n",
       "<style scoped>\n",
       "    .dataframe tbody tr th:only-of-type {\n",
       "        vertical-align: middle;\n",
       "    }\n",
       "\n",
       "    .dataframe tbody tr th {\n",
       "        vertical-align: top;\n",
       "    }\n",
       "\n",
       "    .dataframe thead th {\n",
       "        text-align: right;\n",
       "    }\n",
       "</style>\n",
       "<table border=\"1\" class=\"dataframe\">\n",
       "  <thead>\n",
       "    <tr style=\"text-align: right;\">\n",
       "      <th></th>\n",
       "      <th>timestamp</th>\n",
       "      <th>text</th>\n",
       "    </tr>\n",
       "  </thead>\n",
       "  <tbody>\n",
       "    <tr>\n",
       "      <th>0</th>\n",
       "      <td>00:00:00.000</td>\n",
       "      <td>The following is a conversation with Michio Kaku.</td>\n",
       "    </tr>\n",
       "    <tr>\n",
       "      <th>1</th>\n",
       "      <td>00:00:02.800</td>\n",
       "      <td>He's a theoretical physicist, futurist,</td>\n",
       "    </tr>\n",
       "    <tr>\n",
       "      <th>2</th>\n",
       "      <td>00:00:05.120</td>\n",
       "      <td>and professor at the City College of New York.</td>\n",
       "    </tr>\n",
       "    <tr>\n",
       "      <th>3</th>\n",
       "      <td>00:00:08.360</td>\n",
       "      <td>He's the author of many fascinating books</td>\n",
       "    </tr>\n",
       "    <tr>\n",
       "      <th>4</th>\n",
       "      <td>00:00:10.760</td>\n",
       "      <td>that explore the nature of our reality</td>\n",
       "    </tr>\n",
       "    <tr>\n",
       "      <th>5</th>\n",
       "      <td>00:00:12.840</td>\n",
       "      <td>and the future of our civilization.</td>\n",
       "    </tr>\n",
       "    <tr>\n",
       "      <th>6</th>\n",
       "      <td>00:00:15.520</td>\n",
       "      <td>They include Einstein's Cosmos, Physics of the Impossible,</td>\n",
       "    </tr>\n",
       "    <tr>\n",
       "      <th>7</th>\n",
       "      <td>00:00:19.200</td>\n",
       "      <td>Future of the Mind, Parallel Worlds,</td>\n",
       "    </tr>\n",
       "    <tr>\n",
       "      <th>8</th>\n",
       "      <td>00:00:21.600</td>\n",
       "      <td>and his latest, The Future of Humanity,</td>\n",
       "    </tr>\n",
       "    <tr>\n",
       "      <th>9</th>\n",
       "      <td>00:00:24.240</td>\n",
       "      <td>Terraforming Mars Interstellar Travel,</td>\n",
       "    </tr>\n",
       "    <tr>\n",
       "      <th>10</th>\n",
       "      <td>00:00:26.640</td>\n",
       "      <td>Immortality, and Our Destiny Beyond Earth.</td>\n",
       "    </tr>\n",
       "    <tr>\n",
       "      <th>11</th>\n",
       "      <td>00:00:29.960</td>\n",
       "      <td>I think it's beautiful and important</td>\n",
       "    </tr>\n",
       "    <tr>\n",
       "      <th>12</th>\n",
       "      <td>00:00:32.960</td>\n",
       "      <td>when a scientific mind can fearlessly explore</td>\n",
       "    </tr>\n",
       "    <tr>\n",
       "      <th>13</th>\n",
       "      <td>00:00:35.760</td>\n",
       "      <td>through conversation subjects</td>\n",
       "    </tr>\n",
       "    <tr>\n",
       "      <th>14</th>\n",
       "      <td>00:00:37.600</td>\n",
       "      <td>just outside of our understanding.</td>\n",
       "    </tr>\n",
       "    <tr>\n",
       "      <th>15</th>\n",
       "      <td>00:00:40.200</td>\n",
       "      <td>That, to me, is where artificial intelligence is today,</td>\n",
       "    </tr>\n",
       "    <tr>\n",
       "      <th>16</th>\n",
       "      <td>00:00:43.440</td>\n",
       "      <td>just outside of our understanding,</td>\n",
       "    </tr>\n",
       "    <tr>\n",
       "      <th>17</th>\n",
       "      <td>00:00:45.680</td>\n",
       "      <td>a place we have to reach for</td>\n",
       "    </tr>\n",
       "    <tr>\n",
       "      <th>18</th>\n",
       "      <td>00:00:47.440</td>\n",
       "      <td>if we're to uncover the mysteries of the human mind</td>\n",
       "    </tr>\n",
       "    <tr>\n",
       "      <th>19</th>\n",
       "      <td>00:00:50.160</td>\n",
       "      <td>and build human level and superhuman level AI systems</td>\n",
       "    </tr>\n",
       "    <tr>\n",
       "      <th>20</th>\n",
       "      <td>00:00:53.880</td>\n",
       "      <td>that transform our world for the better.</td>\n",
       "    </tr>\n",
       "    <tr>\n",
       "      <th>21</th>\n",
       "      <td>00:00:56.640</td>\n",
       "      <td>This is the Artificial Intelligence Podcast.</td>\n",
       "    </tr>\n",
       "    <tr>\n",
       "      <th>22</th>\n",
       "      <td>00:00:59.240</td>\n",
       "      <td>If you enjoy it, subscribe on YouTube,</td>\n",
       "    </tr>\n",
       "    <tr>\n",
       "      <th>23</th>\n",
       "      <td>00:01:01.600</td>\n",
       "      <td>give it five stars on iTunes, support it on Patreon,</td>\n",
       "    </tr>\n",
       "    <tr>\n",
       "      <th>24</th>\n",
       "      <td>00:01:04.640</td>\n",
       "      <td>or simply connect with me on Twitter</td>\n",
       "    </tr>\n",
       "  </tbody>\n",
       "</table>\n",
       "</div>"
      ],
      "text/plain": [
       "       timestamp                                                         text\n",
       "0   00:00:00.000            The following is a conversation with Michio Kaku.\n",
       "1   00:00:02.800                      He's a theoretical physicist, futurist,\n",
       "2   00:00:05.120               and professor at the City College of New York.\n",
       "3   00:00:08.360                    He's the author of many fascinating books\n",
       "4   00:00:10.760                       that explore the nature of our reality\n",
       "5   00:00:12.840                          and the future of our civilization.\n",
       "6   00:00:15.520   They include Einstein's Cosmos, Physics of the Impossible,\n",
       "7   00:00:19.200                         Future of the Mind, Parallel Worlds,\n",
       "8   00:00:21.600                      and his latest, The Future of Humanity,\n",
       "9   00:00:24.240                       Terraforming Mars Interstellar Travel,\n",
       "10  00:00:26.640                   Immortality, and Our Destiny Beyond Earth.\n",
       "11  00:00:29.960                         I think it's beautiful and important\n",
       "12  00:00:32.960                when a scientific mind can fearlessly explore\n",
       "13  00:00:35.760                                through conversation subjects\n",
       "14  00:00:37.600                           just outside of our understanding.\n",
       "15  00:00:40.200      That, to me, is where artificial intelligence is today,\n",
       "16  00:00:43.440                           just outside of our understanding,\n",
       "17  00:00:45.680                                 a place we have to reach for\n",
       "18  00:00:47.440          if we're to uncover the mysteries of the human mind\n",
       "19  00:00:50.160        and build human level and superhuman level AI systems\n",
       "20  00:00:53.880                     that transform our world for the better.\n",
       "21  00:00:56.640                 This is the Artificial Intelligence Podcast.\n",
       "22  00:00:59.240                       If you enjoy it, subscribe on YouTube,\n",
       "23  00:01:01.600         give it five stars on iTunes, support it on Patreon,\n",
       "24  00:01:04.640                         or simply connect with me on Twitter"
      ]
     },
     "execution_count": 5,
     "metadata": {},
     "output_type": "execute_result"
    }
   ],
   "source": [
    "df = pd.read_csv(f\"{NEW_TRANSCRIPT_FILE_NAME}\"\n",
    "                            ,sep=';', \n",
    "                            header=None, names=['timestamp', 'text'],)\n",
    "df.head(25)"
   ]
  },
  {
   "attachments": {},
   "cell_type": "markdown",
   "metadata": {},
   "source": [
    "* Ideas\n",
    "* Summarization of main topics in the audio\n",
    "* Go to the mentions of the topics\n",
    "* translation to arabic\n",
    "* The app ask me questions about the text (for language learning) and create a discussion\n",
    "* Click on named-entity, book in order to play at timestamp\n",
    "* Webapp or Mobile app"
   ]
  },
  {
   "attachments": {},
   "cell_type": "markdown",
   "metadata": {},
   "source": [
    "* Since Whisper has not skipped the punctuations in the transcript, we can reconstruct full sentences, ensuring that each sentence is ended with a period `.`"
   ]
  },
  {
   "cell_type": "code",
   "execution_count": 6,
   "metadata": {},
   "outputs": [],
   "source": [
    "# Recreate the dataframe with full sentences\n",
    "transcript_df = pd.DataFrame(columns=df.columns)\n",
    "\n",
    "for idx, timestamp, text in df.itertuples():\n",
    "    while text[-1] != '.':\n",
    "        idx += 1\n",
    "        text += df.loc[idx]['text']\n",
    "    transcript_df = pd.concat([transcript_df, pd.DataFrame({'timestamp': timestamp, 'text': text}, index=[0])], ignore_index=True)\n",
    "\n",
    "# Remove any piece of text if it is included in previous text\n",
    "not_part_of_previous = [True]\n",
    "for i in range(1, len(transcript_df)):\n",
    "    not_part_of_previous.append(transcript_df['text'][i] not in transcript_df['text'][i-1])\n",
    "transcript_df = transcript_df[not_part_of_previous] \n"
   ]
  },
  {
   "attachments": {},
   "cell_type": "markdown",
   "metadata": {},
   "source": [
    "# 1. NER\n",
    "* Add column for persons, orginazations, books, companies, countries, places."
   ]
  },
  {
   "attachments": {},
   "cell_type": "markdown",
   "metadata": {},
   "source": [
    "## Mentioned Books"
   ]
  },
  {
   "cell_type": "code",
   "execution_count": 8,
   "metadata": {},
   "outputs": [],
   "source": [
    "#%%capture\n",
    "# %pip install -U spaCy\n",
    "# %pip install 'spacy[transformers]'\n",
    "#!python -m spacy download en_core_web_trf # download best-matching version of specific model"
   ]
  },
  {
   "cell_type": "code",
   "execution_count": 9,
   "metadata": {},
   "outputs": [
    {
     "data": {
      "text/plain": [
       "[('transformer',\n",
       "  <spacy_transformers.pipeline_component.Transformer at 0x21f879674c0>),\n",
       " ('tagger', <spacy.pipeline.tagger.Tagger at 0x21f879665c0>),\n",
       " ('attribute_ruler',\n",
       "  <spacy.pipeline.attributeruler.AttributeRuler at 0x21f87905700>),\n",
       " ('lemmatizer', <spacy.lang.en.lemmatizer.EnglishLemmatizer at 0x21f87988240>),\n",
       " ('ner', <spacy.pipeline.ner.EntityRecognizer at 0x21f879595b0>)]"
      ]
     },
     "execution_count": 9,
     "metadata": {},
     "output_type": "execute_result"
    }
   ],
   "source": [
    "import spacy\n",
    "# load a pipeline package by name and return nlp object\n",
    "nlp = spacy.load(\"en_core_web_trf\", disable=[\"tok2vec\",\"parser\"]) #disable=[\"tok2vec\", \"tagger\", \"parser\", \"attribute_ruler\", \"lemmatizer\", \"ner\"]\n",
    "\n",
    "# check processing pipeline components of nlp object\n",
    "nlp.pipeline\n"
   ]
  },
  {
   "cell_type": "code",
   "execution_count": 10,
   "metadata": {},
   "outputs": [
    {
     "name": "stdout",
     "output_type": "stream",
     "text": [
      "Entities:  ['Collapse']\n"
     ]
    }
   ],
   "source": [
    "# create a Doc by processing a string of text with the nlp object\n",
    "doc = nlp(\"So I'm with Jared Diamond, you know, in the book Collapse, \\\n",
    "          where he points out studying the collapse of major civilizations, \\\n",
    "          that it often happens right after things appear to never have been better. Hmm.\")\n",
    "\n",
    "\n",
    "# iterate over tokens in a Doc\n",
    "print(\"Entities: \", [e.text for e in doc.ents if e.label_ == 'WORK_OF_ART'])\n"
   ]
  },
  {
   "cell_type": "code",
   "execution_count": 11,
   "metadata": {},
   "outputs": [],
   "source": [
    "# Find book related sentences in the transcript\n",
    "book_related_phrases = [\n",
    "    \"book\", \"books\", \"i read\", \n",
    "    \"everyone should read\", \"you should read\", \"he wrote a novel\",\n",
    "    \"i recommend\", \"highly recommend\", \"you must read\", \n",
    "    \"shouldn't miss\", \"top books\", \"best books\", \n",
    "    \"favorite book\", \"my favorite books\", \"book you need to read\",\n",
    "    \"books to read before\", \"essential books\", \"great book for\",\n",
    "    \"worthy read\", \"book of the year\", \"award winning book\"\n",
    "]\n",
    "\n",
    "\n",
    "\n",
    "\n",
    "def contains_book_phrase(text: str, search_list: List[str]) -> bool:\n",
    "    \"\"\"\n",
    "    Check if a text contains any of a list of book-related phrases.\n",
    "\n",
    "    :param text: The text to search within.\n",
    "    :param search_list: A list of phrases to search for.\n",
    "    :return: True if any phrase is found in the text, False otherwise.\n",
    "    \"\"\"\n",
    "    return any(phrase in text.lower() for phrase in search_list)\n",
    "\n",
    "\n",
    "transcript_df[\"is_book_related\"] = transcript_df[\"text\"].apply(contains_book_phrase, search_list=book_related_phrases)"
   ]
  },
  {
   "cell_type": "code",
   "execution_count": 12,
   "metadata": {},
   "outputs": [],
   "source": [
    "def get_book_titles_candidates(text: str, pipeline: Callable[[str], 'Doc']) -> List[str]:\n",
    "    \"\"\"\n",
    "    Extract potential book titles from a text using a given NLP model.\n",
    "\n",
    "    :param text: The text to extract titles from.\n",
    "    :param pipeline: The NLP model to use for text processing.\n",
    "    :return: A list of potential book titles.\n",
    "    \"\"\"\n",
    "    doc = nlp(text)\n",
    "    book_titles_candidates = [entity.text for entity in doc.ents if entity.label_ == 'WORK_OF_ART']\n",
    "    return book_titles_candidates\n"
   ]
  },
  {
   "cell_type": "code",
   "execution_count": 13,
   "metadata": {},
   "outputs": [
    {
     "data": {
      "text/plain": [
       "3                               []\n",
       "182                             []\n",
       "341                             []\n",
       "478       [The Future of the Mind]\n",
       "638                             []\n",
       "859                             []\n",
       "940                             []\n",
       "954     [The Theory of Everything]\n",
       "957                             []\n",
       "1149          [Future of Humanity]\n",
       "Name: text, dtype: object"
      ]
     },
     "execution_count": 13,
     "metadata": {},
     "output_type": "execute_result"
    }
   ],
   "source": [
    "transcript_df.query(\"is_book_related == True\")[\"text\"].apply(get_book_titles_candidates,\n",
    "                                                                  pipeline=nlp)"
   ]
  },
  {
   "cell_type": "code",
   "execution_count": 14,
   "metadata": {},
   "outputs": [],
   "source": [
    "# Add book candidates to the dataframe\n",
    "transcript_df[\"book_candidates\"] = transcript_df.apply(lambda x: get_book_titles_candidates(x[\"text\"], pipeline=nlp) \\\n",
    "                                                                 if x[\"is_book_related\"] else [], axis=1)"
   ]
  },
  {
   "cell_type": "code",
   "execution_count": 15,
   "metadata": {},
   "outputs": [
    {
     "data": {
      "text/html": [
       "<div>\n",
       "<style scoped>\n",
       "    .dataframe tbody tr th:only-of-type {\n",
       "        vertical-align: middle;\n",
       "    }\n",
       "\n",
       "    .dataframe tbody tr th {\n",
       "        vertical-align: top;\n",
       "    }\n",
       "\n",
       "    .dataframe thead th {\n",
       "        text-align: right;\n",
       "    }\n",
       "</style>\n",
       "<table border=\"1\" class=\"dataframe\">\n",
       "  <thead>\n",
       "    <tr style=\"text-align: right;\">\n",
       "      <th></th>\n",
       "      <th>timestamp</th>\n",
       "      <th>text</th>\n",
       "      <th>is_book_related</th>\n",
       "      <th>book_candidates</th>\n",
       "    </tr>\n",
       "  </thead>\n",
       "  <tbody>\n",
       "    <tr>\n",
       "      <th>3</th>\n",
       "      <td>00:00:08.360</td>\n",
       "      <td>He's the author of many fascinating books that explore the nature of our reality and the future of our civilization.</td>\n",
       "      <td>True</td>\n",
       "      <td>[]</td>\n",
       "    </tr>\n",
       "    <tr>\n",
       "      <th>182</th>\n",
       "      <td>00:08:30.920</td>\n",
       "      <td>And Stephen Hawking, for example, even in his last book, even said that this is an argument against the existence of God.</td>\n",
       "      <td>True</td>\n",
       "      <td>[]</td>\n",
       "    </tr>\n",
       "    <tr>\n",
       "      <th>341</th>\n",
       "      <td>00:16:04.760</td>\n",
       "      <td>If you read the book, the aliens did not have evil intentions toward homo sapiens.</td>\n",
       "      <td>True</td>\n",
       "      <td>[]</td>\n",
       "    </tr>\n",
       "    <tr>\n",
       "      <th>478</th>\n",
       "      <td>00:22:38.600</td>\n",
       "      <td>I have a book, The Future of the Mind, where I detail some of these breakthroughs.</td>\n",
       "      <td>True</td>\n",
       "      <td>[The Future of the Mind]</td>\n",
       "    </tr>\n",
       "    <tr>\n",
       "      <th>638</th>\n",
       "      <td>00:29:54.080</td>\n",
       "      <td>Our ancestors were lucky if they had one line, just one line in a church book, saying the date they were baptized and the date they died.</td>\n",
       "      <td>True</td>\n",
       "      <td>[]</td>\n",
       "    </tr>\n",
       "    <tr>\n",
       "      <th>859</th>\n",
       "      <td>00:40:07.240</td>\n",
       "      <td>For Isidor Rabi, it was a book about the planets.</td>\n",
       "      <td>True</td>\n",
       "      <td>[]</td>\n",
       "    </tr>\n",
       "    <tr>\n",
       "      <th>940</th>\n",
       "      <td>00:44:06.200</td>\n",
       "      <td>That desk had a book on it, which was opened.</td>\n",
       "      <td>True</td>\n",
       "      <td>[]</td>\n",
       "    </tr>\n",
       "    <tr>\n",
       "      <th>954</th>\n",
       "      <td>00:44:43.160</td>\n",
       "      <td>And then over the years, I found out the guy had a name, Albert Einstein, and that book was The Theory of Everything.</td>\n",
       "      <td>True</td>\n",
       "      <td>[The Theory of Everything]</td>\n",
       "    </tr>\n",
       "    <tr>\n",
       "      <th>957</th>\n",
       "      <td>00:44:53.080</td>\n",
       "      <td>Well, today I can read that book.</td>\n",
       "      <td>True</td>\n",
       "      <td>[]</td>\n",
       "    </tr>\n",
       "    <tr>\n",
       "      <th>1149</th>\n",
       "      <td>00:53:36.600</td>\n",
       "      <td>And in my book, Future of Humanity, I even speculate beyond that, that by the end of this century, we'll probably have the first starships.</td>\n",
       "      <td>True</td>\n",
       "      <td>[Future of Humanity]</td>\n",
       "    </tr>\n",
       "  </tbody>\n",
       "</table>\n",
       "</div>"
      ],
      "text/plain": [
       "         timestamp   \n",
       "3     00:00:08.360  \\\n",
       "182   00:08:30.920   \n",
       "341   00:16:04.760   \n",
       "478   00:22:38.600   \n",
       "638   00:29:54.080   \n",
       "859   00:40:07.240   \n",
       "940   00:44:06.200   \n",
       "954   00:44:43.160   \n",
       "957   00:44:53.080   \n",
       "1149  00:53:36.600   \n",
       "\n",
       "                                                                                                                                              text   \n",
       "3                             He's the author of many fascinating books that explore the nature of our reality and the future of our civilization.  \\\n",
       "182                      And Stephen Hawking, for example, even in his last book, even said that this is an argument against the existence of God.   \n",
       "341                                                             If you read the book, the aliens did not have evil intentions toward homo sapiens.   \n",
       "478                                                             I have a book, The Future of the Mind, where I detail some of these breakthroughs.   \n",
       "638      Our ancestors were lucky if they had one line, just one line in a church book, saying the date they were baptized and the date they died.   \n",
       "859                                                                                              For Isidor Rabi, it was a book about the planets.   \n",
       "940                                                                                                  That desk had a book on it, which was opened.   \n",
       "954                          And then over the years, I found out the guy had a name, Albert Einstein, and that book was The Theory of Everything.   \n",
       "957                                                                                                              Well, today I can read that book.   \n",
       "1149   And in my book, Future of Humanity, I even speculate beyond that, that by the end of this century, we'll probably have the first starships.   \n",
       "\n",
       "      is_book_related             book_candidates  \n",
       "3                True                          []  \n",
       "182              True                          []  \n",
       "341              True                          []  \n",
       "478              True    [The Future of the Mind]  \n",
       "638              True                          []  \n",
       "859              True                          []  \n",
       "940              True                          []  \n",
       "954              True  [The Theory of Everything]  \n",
       "957              True                          []  \n",
       "1149             True        [Future of Humanity]  "
      ]
     },
     "execution_count": 15,
     "metadata": {},
     "output_type": "execute_result"
    }
   ],
   "source": [
    "transcript_df.query(\"is_book_related == True\")"
   ]
  },
  {
   "cell_type": "code",
   "execution_count": 16,
   "metadata": {},
   "outputs": [
    {
     "data": {
      "text/plain": [
       "{'title': 'Parallel Worlds',\n",
       " 'subtitle': 'A Journey Through Creation, Higher Dimensions, and the Future of the Cosmos',\n",
       " 'authors': ['Michio Kaku'],\n",
       " 'publisher': 'Anchor',\n",
       " 'publishedDate': '2006-02-14',\n",
       " 'description': 'Sheds new light on discoveries that have revolutionized the field of cosmology and transformed understanding of the universe, offering an explanation of the multiverse M-theory and its implications in terms of the fate of our own universe.',\n",
       " 'industryIdentifiers': [{'type': 'OTHER', 'identifier': 'UVA:X004898840'}],\n",
       " 'readingModes': {'text': False, 'image': False},\n",
       " 'pageCount': 452,\n",
       " 'printType': 'BOOK',\n",
       " 'categories': ['Science'],\n",
       " 'averageRating': 3.5,\n",
       " 'ratingsCount': 11,\n",
       " 'maturityRating': 'NOT_MATURE',\n",
       " 'allowAnonLogging': False,\n",
       " 'contentVersion': '0.2.1.0.preview.0',\n",
       " 'panelizationSummary': {'containsEpubBubbles': False,\n",
       "  'containsImageBubbles': False},\n",
       " 'imageLinks': {'smallThumbnail': 'http://books.google.com/books/content?id=21NGAAAAYAAJ&printsec=frontcover&img=1&zoom=5&source=gbs_api',\n",
       "  'thumbnail': 'http://books.google.com/books/content?id=21NGAAAAYAAJ&printsec=frontcover&img=1&zoom=1&source=gbs_api'},\n",
       " 'language': 'en',\n",
       " 'previewLink': 'http://books.google.de/books?id=21NGAAAAYAAJ&q=Parallel+Worlds&dq=Parallel+Worlds&hl=&cd=2&source=gbs_api',\n",
       " 'infoLink': 'http://books.google.de/books?id=21NGAAAAYAAJ&dq=Parallel+Worlds&hl=&source=gbs_api',\n",
       " 'canonicalVolumeLink': 'https://books.google.com/books/about/Parallel_Worlds.html?hl=&id=21NGAAAAYAAJ'}"
      ]
     },
     "execution_count": 16,
     "metadata": {},
     "output_type": "execute_result"
    }
   ],
   "source": [
    "import requests\n",
    "\n",
    "def get_book_info(title: str) -> Optional[Dict]:\n",
    "    \"\"\"\n",
    "    Fetch book information from Google Books API.\n",
    "\n",
    "    :param title: The title of the book to search for.\n",
    "    :return: A dictionary containing book information if found, None otherwise.\n",
    "    \"\"\"\n",
    "    try:\n",
    "        response = requests.get(f\"https://www.googleapis.com/books/v1/volumes?q={title}\")\n",
    "\n",
    "        # Raise an exception if the request was unsuccessful\n",
    "        response.raise_for_status()\n",
    "\n",
    "    except requests.HTTPError as http_err:\n",
    "        print(f'HTTP error occurred: {http_err}')\n",
    "        return None\n",
    "    except Exception as err:\n",
    "        print(f'Other error occurred: {err}')\n",
    "        return None\n",
    "\n",
    "    else:\n",
    "        data = response.json()\n",
    "        most_rated_book = None\n",
    "        # Find popular book (highest ratings count)\n",
    "        max_ratings_count = -1\n",
    "        for book in data[\"items\"]:\n",
    "            ratings_count = book[\"volumeInfo\"].get(\"ratingsCount\", 0)\n",
    "            if ratings_count > max_ratings_count:\n",
    "                max_ratings_count = ratings_count\n",
    "                most_rated_book = book\n",
    "\n",
    "    return most_rated_book[\"volumeInfo\"]\n",
    "\n",
    "\n",
    "get_book_info(\"Parallel Worlds\")\n"
   ]
  },
  {
   "attachments": {},
   "cell_type": "markdown",
   "metadata": {},
   "source": [
    "## Identify Other Entities"
   ]
  },
  {
   "cell_type": "code",
   "execution_count": 17,
   "metadata": {},
   "outputs": [],
   "source": [
    "# %%capture\n",
    "# %pip install textacy"
   ]
  },
  {
   "cell_type": "code",
   "execution_count": 18,
   "metadata": {},
   "outputs": [],
   "source": [
    "import textacy\n",
    "\n",
    "entity_types = ['PERSON', 'ORG', 'GPE', 'LOC', 'PRODUCT', 'EVENT', 'NORP', 'WORK_OF_ART', 'LAW']\n",
    "\n",
    "from typing import List, Optional, Union\n",
    "from spacy.tokens import Doc\n",
    "\n",
    "def extract_entities(doc: Doc, \n",
    "                     include_types: Optional[Union[str, List[str]]] = None, \n",
    "                     sep: str = ' ') -> List[str]:\n",
    "    \"\"\"\n",
    "    Extract named entities from a document and return them as strings.\n",
    "\n",
    "    :param doc: The document to extract entities from.\n",
    "    :param include_types: The types of entities to include. If None, include all types.\n",
    "    :param sep: The separator to use when joining lemmas of multi-token entities.\n",
    "    :return: A list of named entities in the form 'lemma/label'.\n",
    "    \"\"\"\n",
    "    ents = textacy.extract.entities(doc, \n",
    "                                    include_types=include_types, \n",
    "                                    exclude_types=None, \n",
    "                                    drop_determiners=True, \n",
    "                                    min_freq=1)\n",
    "    \n",
    "    return [sep.join([token.text for token in entity])+'/'+entity.label_ for entity in ents]"
   ]
  },
  {
   "attachments": {},
   "cell_type": "markdown",
   "metadata": {},
   "source": [
    "* When processing large volumes of text, it is recommended to use spaCys batch processing for a significant performance gain. The function `nlp.pipeline` takes an iterable of texts, processes them internally as batch, and yields a list fo processed Doc objects in the same order as the input data.\n",
    "* To use `nlp.pipeline`, we first have to define a batch size. Then we can loop over the batches and call `nlp.pipe`. In the inner loop we extract the features from the processed doc and write the values back into the a list:"
   ]
  },
  {
   "cell_type": "code",
   "execution_count": 19,
   "metadata": {},
   "outputs": [
    {
     "name": "stderr",
     "output_type": "stream",
     "text": [
      "  0%|          | 0/13 [00:00<?, ?it/s]"
     ]
    },
    {
     "name": "stderr",
     "output_type": "stream",
     "text": [
      "100%|██████████| 13/13 [00:49<00:00,  3.78s/it]\n"
     ]
    }
   ],
   "source": [
    "# Extract entities from the transcript\n",
    "import numpy as np\n",
    "from tqdm import tqdm\n",
    "\n",
    "batch_size = 50\n",
    "batches = np.ceil(len(transcript_df) / batch_size).astype(int)\n",
    "\n",
    "named_entities = []\n",
    "\n",
    "# loop over batches, step size is equal to batch size\n",
    "for i in tqdm(range(0, len(transcript_df), batch_size), total=batches):\n",
    "    docs = nlp.pipe(transcript_df['text'][i:i+batch_size])\n",
    "    \n",
    "    for doc in docs:\n",
    "        named_entities.append(extract_entities(doc, include_types=entity_types)) \n",
    "\n",
    "transcript_df['named_entities'] = named_entities "
   ]
  },
  {
   "cell_type": "code",
   "execution_count": 20,
   "metadata": {},
   "outputs": [],
   "source": [
    "# Add columns for each entity type\n",
    "for ent_type in entity_types:\n",
    "    transcript_df[ent_type.lower()] = transcript_df[\"named_entities\"].apply(lambda x: \\\n",
    "                                                                            [entity.split('/')[0] for entity in x if entity.split('/')[1] == ent_type])"
   ]
  },
  {
   "cell_type": "code",
   "execution_count": 21,
   "metadata": {},
   "outputs": [
    {
     "data": {
      "text/html": [
       "<div>\n",
       "<style scoped>\n",
       "    .dataframe tbody tr th:only-of-type {\n",
       "        vertical-align: middle;\n",
       "    }\n",
       "\n",
       "    .dataframe tbody tr th {\n",
       "        vertical-align: top;\n",
       "    }\n",
       "\n",
       "    .dataframe thead th {\n",
       "        text-align: right;\n",
       "    }\n",
       "</style>\n",
       "<table border=\"1\" class=\"dataframe\">\n",
       "  <thead>\n",
       "    <tr style=\"text-align: right;\">\n",
       "      <th></th>\n",
       "      <th>timestamp</th>\n",
       "      <th>text</th>\n",
       "      <th>is_book_related</th>\n",
       "      <th>book_candidates</th>\n",
       "      <th>named_entities</th>\n",
       "      <th>person</th>\n",
       "      <th>org</th>\n",
       "      <th>gpe</th>\n",
       "      <th>loc</th>\n",
       "      <th>product</th>\n",
       "      <th>event</th>\n",
       "      <th>norp</th>\n",
       "      <th>work_of_art</th>\n",
       "      <th>law</th>\n",
       "    </tr>\n",
       "  </thead>\n",
       "  <tbody>\n",
       "    <tr>\n",
       "      <th>0</th>\n",
       "      <td>00:00:00.000</td>\n",
       "      <td>The following is a conversation with Michio Kaku.</td>\n",
       "      <td>False</td>\n",
       "      <td>[]</td>\n",
       "      <td>[Michio Kaku/PERSON]</td>\n",
       "      <td>[Michio Kaku]</td>\n",
       "      <td>[]</td>\n",
       "      <td>[]</td>\n",
       "      <td>[]</td>\n",
       "      <td>[]</td>\n",
       "      <td>[]</td>\n",
       "      <td>[]</td>\n",
       "      <td>[]</td>\n",
       "      <td>[]</td>\n",
       "    </tr>\n",
       "    <tr>\n",
       "      <th>1</th>\n",
       "      <td>00:00:02.800</td>\n",
       "      <td>He's a theoretical physicist, futurist, and professor at the City College of New York.</td>\n",
       "      <td>False</td>\n",
       "      <td>[]</td>\n",
       "      <td>[City College of New York/ORG]</td>\n",
       "      <td>[]</td>\n",
       "      <td>[City College of New York]</td>\n",
       "      <td>[]</td>\n",
       "      <td>[]</td>\n",
       "      <td>[]</td>\n",
       "      <td>[]</td>\n",
       "      <td>[]</td>\n",
       "      <td>[]</td>\n",
       "      <td>[]</td>\n",
       "    </tr>\n",
       "  </tbody>\n",
       "</table>\n",
       "</div>"
      ],
      "text/plain": [
       "      timestamp   \n",
       "0  00:00:00.000  \\\n",
       "1  00:00:02.800   \n",
       "\n",
       "                                                                                      text   \n",
       "0                                        The following is a conversation with Michio Kaku.  \\\n",
       "1   He's a theoretical physicist, futurist, and professor at the City College of New York.   \n",
       "\n",
       "   is_book_related book_candidates                  named_entities   \n",
       "0            False              []            [Michio Kaku/PERSON]  \\\n",
       "1            False              []  [City College of New York/ORG]   \n",
       "\n",
       "          person                         org gpe loc product event norp   \n",
       "0  [Michio Kaku]                          []  []  []      []    []   []  \\\n",
       "1             []  [City College of New York]  []  []      []    []   []   \n",
       "\n",
       "  work_of_art law  \n",
       "0          []  []  \n",
       "1          []  []  "
      ]
     },
     "execution_count": 21,
     "metadata": {},
     "output_type": "execute_result"
    }
   ],
   "source": [
    "transcript_df.head(2)"
   ]
  },
  {
   "cell_type": "code",
   "execution_count": 22,
   "metadata": {},
   "outputs": [],
   "source": [
    "def contains_empty_list(df: pd.DataFrame, col_name: str) -> bool:\n",
    "    \"\"\"\n",
    "    Check if a column in a DataFrame contains any empty lists.\n",
    "\n",
    "    :param df: The DataFrame to check.\n",
    "    :param col_name: The name of the column to check.\n",
    "    :return: True if any empty list is found, False otherwise.\n",
    "    \"\"\"\n",
    "    return df[col_name].apply(lambda x: x == []).any()\n",
    "\n",
    "\n",
    "# Find columns with empty lists\n",
    "cols_to_clean = [col for col in transcript_df.columns if contains_empty_list(transcript_df, col)]\n",
    "\n",
    "# Remove empty lists \n",
    "for ent_type in cols_to_clean:\n",
    "    transcript_df[ent_type] = transcript_df[ent_type].apply(lambda x: x if len(x) > 0 else None)"
   ]
  },
  {
   "cell_type": "code",
   "execution_count": 23,
   "metadata": {},
   "outputs": [],
   "source": [
    "from collections import Counter \n",
    "import pandas as pd\n",
    "from typing import Optional, Callable\n",
    "\n",
    "def count_words(dataframe: pd.DataFrame, \n",
    "                column: str, \n",
    "                preprocess: Optional[Callable[[str], str]] = None, \n",
    "                min_frequency: int = 1) -> pd.DataFrame:\n",
    "    \"\"\"\n",
    "    Count words in a specific column of a DataFrame.\n",
    "\n",
    "    :param dataframe: The DataFrame to count words from.\n",
    "    :param column: The column to count words in. Should be tokenized.\n",
    "    :param preprocess: An optional function to preprocess the words before counting.\n",
    "    :param min_frequency: The minimum frequency for a word to be included in the output.\n",
    "    :return: A DataFrame sorted by word frequency, containing words and their frequencies.\n",
    "    \"\"\"\n",
    "    word_counter = Counter()\n",
    "\n",
    "    # If a preprocessing function is provided, apply it before counting words\n",
    "    if preprocess:\n",
    "        dataframe[column].map(lambda doc: word_counter.update(preprocess(doc)))\n",
    "    else:\n",
    "        dataframe[column].map(word_counter.update)\n",
    "\n",
    "    # Convert Counter to DataFrame\n",
    "    word_freq_df = pd.DataFrame.from_dict(word_counter, orient='index', columns=['freq'])\n",
    "    \n",
    "    # Filter words by minimum frequency\n",
    "    word_freq_df = word_freq_df.query('freq >= @min_frequency')\n",
    "    \n",
    "    # Set index name for the dataframe\n",
    "    word_freq_df.index.name = column\n",
    "\n",
    "    # Sort DataFrame by frequency\n",
    "    return word_freq_df.sort_values('freq', ascending=False)\n"
   ]
  },
  {
   "cell_type": "code",
   "execution_count": 24,
   "metadata": {},
   "outputs": [],
   "source": [
    "# %%capture\n",
    "# %pip install WordCloud"
   ]
  },
  {
   "cell_type": "code",
   "execution_count": 25,
   "metadata": {},
   "outputs": [],
   "source": [
    "from wordcloud import WordCloud \n",
    "from collections import Counter\n",
    "import pandas as pd\n",
    "import matplotlib.pyplot as plt\n",
    "\n",
    "def generate_word_cloud(data: pd.DataFrame,\n",
    "                        col_name: str, \n",
    "                        max_words: int = 200) -> None:\n",
    "    \"\"\"\n",
    "    Generate a word cloud from word frequencies.\n",
    "\n",
    "    :param data: A pandas DataFrame containing text data.\n",
    "    :param col_name: The column name to count words from.\n",
    "    :param max_words: The maximum number of words in the word cloud.\n",
    "    \"\"\"\n",
    "    word_frequencies = count_words(data, col_name).freq\n",
    "\n",
    "    # Convert pandas Series to Counter object\n",
    "    word_frequencies = Counter(word_frequencies.fillna(0).to_dict())\n",
    "\n",
    "    # Create wordcloud object\n",
    "    word_cloud = WordCloud(width=800, height=400, \n",
    "                           background_color= \"black\", colormap=\"Paired\", \n",
    "                           max_font_size=150, max_words=max_words)\n",
    "\n",
    "    # Generate word cloud image from frequencies\n",
    "    word_cloud.generate_from_frequencies(word_frequencies)\n",
    "\n",
    "    # Display the cloud using matplotlib \n",
    "    plt.title(col_name.capitalize()) \n",
    "    plt.imshow(word_cloud, interpolation='bilinear')\n",
    "    plt.axis(\"off\")\n"
   ]
  },
  {
   "cell_type": "code",
   "execution_count": 26,
   "metadata": {},
   "outputs": [
    {
     "data": {
      "image/png": "[encoded data removed]",
      "text/plain": [
       "<Figure size 640x480 with 1 Axes>"
      ]
     },
     "metadata": {},
     "output_type": "display_data"
    }
   ],
   "source": [
    "generate_word_cloud(transcript_df, 'person')"
   ]
  },
  {
   "cell_type": "code",
   "execution_count": 27,
   "metadata": {},
   "outputs": [
    {
     "data": {
      "text/html": [
       "<div>\n",
       "<style scoped>\n",
       "    .dataframe tbody tr th:only-of-type {\n",
       "        vertical-align: middle;\n",
       "    }\n",
       "\n",
       "    .dataframe tbody tr th {\n",
       "        vertical-align: top;\n",
       "    }\n",
       "\n",
       "    .dataframe thead th {\n",
       "        text-align: right;\n",
       "    }\n",
       "</style>\n",
       "<table border=\"1\" class=\"dataframe\">\n",
       "  <thead>\n",
       "    <tr style=\"text-align: right;\">\n",
       "      <th></th>\n",
       "      <th>timestamp</th>\n",
       "      <th>text</th>\n",
       "      <th>is_book_related</th>\n",
       "      <th>book_candidates</th>\n",
       "      <th>named_entities</th>\n",
       "      <th>person</th>\n",
       "      <th>org</th>\n",
       "      <th>gpe</th>\n",
       "      <th>loc</th>\n",
       "      <th>product</th>\n",
       "      <th>event</th>\n",
       "      <th>norp</th>\n",
       "      <th>work_of_art</th>\n",
       "      <th>law</th>\n",
       "    </tr>\n",
       "  </thead>\n",
       "  <tbody>\n",
       "    <tr>\n",
       "      <th>0</th>\n",
       "      <td>00:00:00.000</td>\n",
       "      <td>The following is a conversation with Michio Kaku.</td>\n",
       "      <td>False</td>\n",
       "      <td>None</td>\n",
       "      <td>[Michio Kaku/PERSON]</td>\n",
       "      <td>[Michio Kaku]</td>\n",
       "      <td>None</td>\n",
       "      <td>None</td>\n",
       "      <td>None</td>\n",
       "      <td>None</td>\n",
       "      <td>None</td>\n",
       "      <td>None</td>\n",
       "      <td>None</td>\n",
       "      <td>None</td>\n",
       "    </tr>\n",
       "    <tr>\n",
       "      <th>1</th>\n",
       "      <td>00:00:02.800</td>\n",
       "      <td>He's a theoretical physicist, futurist, and professor at the City College of New York.</td>\n",
       "      <td>False</td>\n",
       "      <td>None</td>\n",
       "      <td>[City College of New York/ORG]</td>\n",
       "      <td>None</td>\n",
       "      <td>[City College of New York]</td>\n",
       "      <td>None</td>\n",
       "      <td>None</td>\n",
       "      <td>None</td>\n",
       "      <td>None</td>\n",
       "      <td>None</td>\n",
       "      <td>None</td>\n",
       "      <td>None</td>\n",
       "    </tr>\n",
       "  </tbody>\n",
       "</table>\n",
       "</div>"
      ],
      "text/plain": [
       "      timestamp   \n",
       "0  00:00:00.000  \\\n",
       "1  00:00:02.800   \n",
       "\n",
       "                                                                                      text   \n",
       "0                                        The following is a conversation with Michio Kaku.  \\\n",
       "1   He's a theoretical physicist, futurist, and professor at the City College of New York.   \n",
       "\n",
       "   is_book_related book_candidates                  named_entities   \n",
       "0            False            None            [Michio Kaku/PERSON]  \\\n",
       "1            False            None  [City College of New York/ORG]   \n",
       "\n",
       "          person                         org   gpe   loc product event  norp   \n",
       "0  [Michio Kaku]                        None  None  None    None  None  None  \\\n",
       "1           None  [City College of New York]  None  None    None  None  None   \n",
       "\n",
       "  work_of_art   law  \n",
       "0        None  None  \n",
       "1        None  None  "
      ]
     },
     "execution_count": 27,
     "metadata": {},
     "output_type": "execute_result"
    }
   ],
   "source": [
    "transcript_df.head(2)"
   ]
  },
  {
   "attachments": {},
   "cell_type": "markdown",
   "metadata": {},
   "source": [
    "# Q&A\n",
    "## Prepare the data:"
   ]
  },
  {
   "cell_type": "markdown",
   "metadata": {},
   "source": [
    "I have to reconstruct the dataframe to get longer text to be more useful in vectore store."
   ]
  },
  {
   "cell_type": "code",
   "execution_count": 28,
   "metadata": {},
   "outputs": [],
   "source": [
    "transcript_df['group'] = transcript_df.index // 20\n",
    "grouped_transcript_df = transcript_df.groupby('group').agg({\n",
    "    'timestamp': 'first',\n",
    "    'text': ' '.join,\n",
    "    'is_book_related': 'any',\n",
    "    'book_candidates': 'sum',\n",
    "    'named_entities': 'sum',\n",
    "    \n",
    "})"
   ]
  },
  {
   "cell_type": "markdown",
   "metadata": {},
   "source": [
    "I will add a new column with that contains identified named-entities in plain text. First, let's create a column with entity dict:"
   ]
  },
  {
   "cell_type": "code",
   "execution_count": 29,
   "metadata": {},
   "outputs": [],
   "source": [
    "def entities_to_dict(entities):\n",
    "    \"\"\"\n",
    "    This function takes a list of entities in the format \"entity/ENTITY_TYPE\" and returns a dictionary\n",
    "    where the keys are entity types and the values are lists of entities of that type.\n",
    "\n",
    "    Parameters:\n",
    "    entities (list): The input list of entity strings to be processed. Each entity string should be in the format\n",
    "                     \"entity/ENTITY_TYPE\". \n",
    "\n",
    "    Returns:\n",
    "    dict: A dictionary where the keys are descriptions of entity types (as strings), and the values are lists of \n",
    "          entities (as strings) of the corresponding type. If the input is not a list, returns an empty dictionary.\n",
    "    \"\"\"\n",
    "\n",
    "    # # Define a mapping from entity types to their descriptions\n",
    "    # entity_type_mapping = {\n",
    "    #     'PERSON': 'People, including fictional',\n",
    "    #     'NORP': 'Nationalities or religious or political groups',\n",
    "    #     'ORG': 'Companies, agencies, and institutions',\n",
    "    #     'GPE': 'Countries, cities, and states',\n",
    "    #     'LOC': 'Non-GPE locations, mountain ranges, bodies of water',\n",
    "    #     'PRODUCT': 'Objects, vehicles, foods, etc. (Not services)',\n",
    "    #     'EVENT': 'Named hurricanes, battles, wars, sports events, etc',\n",
    "    #     'WORK_OF_ART': 'Titles of books, songs, etc',\n",
    "    #     'LAW': 'Named documents made into laws',\n",
    "    # }\n",
    "\n",
    "\n",
    "    if not isinstance(entities, list):\n",
    "        return {}\n",
    "\n",
    "    entities_by_type = {}\n",
    "    for entity in entities:\n",
    "        name, entity_type = entity.split('/')\n",
    "        # Use the mapping to change the keys\n",
    "        #entity_type = entity_type_mapping.get(entity_type, entity_type)\n",
    "        if entity_type not in entities_by_type:\n",
    "            entities_by_type[entity_type] = []\n",
    "        entities_by_type[entity_type].append(name)\n",
    "    return entities_by_type\n"
   ]
  },
  {
   "cell_type": "code",
   "execution_count": 30,
   "metadata": {},
   "outputs": [],
   "source": [
    "# Apply the helper function\n",
    "grouped_transcript_df['named_entities_dict'] = grouped_transcript_df['named_entities'].apply(entities_to_dict)"
   ]
  },
  {
   "cell_type": "code",
   "execution_count": 31,
   "metadata": {},
   "outputs": [
    {
     "data": {
      "text/html": [
       "<div>\n",
       "<style scoped>\n",
       "    .dataframe tbody tr th:only-of-type {\n",
       "        vertical-align: middle;\n",
       "    }\n",
       "\n",
       "    .dataframe tbody tr th {\n",
       "        vertical-align: top;\n",
       "    }\n",
       "\n",
       "    .dataframe thead th {\n",
       "        text-align: right;\n",
       "    }\n",
       "</style>\n",
       "<table border=\"1\" class=\"dataframe\">\n",
       "  <thead>\n",
       "    <tr style=\"text-align: right;\">\n",
       "      <th></th>\n",
       "      <th>timestamp</th>\n",
       "      <th>text</th>\n",
       "      <th>is_book_related</th>\n",
       "      <th>book_candidates</th>\n",
       "      <th>named_entities</th>\n",
       "      <th>named_entities_dict</th>\n",
       "    </tr>\n",
       "    <tr>\n",
       "      <th>group</th>\n",
       "      <th></th>\n",
       "      <th></th>\n",
       "      <th></th>\n",
       "      <th></th>\n",
       "      <th></th>\n",
       "      <th></th>\n",
       "    </tr>\n",
       "  </thead>\n",
       "  <tbody>\n",
       "    <tr>\n",
       "      <th>0</th>\n",
       "      <td>00:00:00.000</td>\n",
       "      <td>The following is a conversation with Michio Kaku.  He's a theoretical physicist, futurist, and professor at the City College of New York.  He's the author of many fascinating books that explore the nature of our reality and the future of our civilization.  They include Einstein's Cosmos, Physics of the Impossible, Future of the Mind, Parallel Worlds, and his latest, The Future of Humanity, Terraforming Mars Interstellar Travel, Immortality, and Our Destiny Beyond Earth.  I think it's beautiful and important when a scientific mind can fearlessly explore through conversation subjects just outside of our understanding.  That, to me, is where artificial intelligence is today, just outside of our understanding, a place we have to reach for if we're to uncover the mysteries of the human mind and build human level and superhuman level AI systems that transform our world for the better.</td>\n",
       "      <td>True</td>\n",
       "      <td>0</td>\n",
       "      <td>[Michio Kaku/PERSON, City College of New York/ORG, Einstein/PERSON, Cosmos/WORK_OF_ART, Physics of the Impossible/WORK_OF_ART, Future of the Mind/WORK_OF_ART, Parallel Worlds/WORK_OF_ART, Future of Humanity/WORK_OF_ART, Terraforming Mars Interstellar Travel/WORK_OF_ART]</td>\n",
       "      <td>{'PERSON': ['Michio Kaku', 'Einstein'], 'ORG': ['City College of New York'], 'WORK_OF_ART': ['Cosmos', 'Physics of the Impossible', 'Future of the Mind', 'Parallel Worlds', 'Future of Humanity', 'Terraforming Mars Interstellar Travel']}</td>\n",
       "    </tr>\n",
       "    <tr>\n",
       "      <th>1</th>\n",
       "      <td>00:00:56.640</td>\n",
       "      <td>This is the Artificial Intelligence Podcast.  If you enjoy it, subscribe on YouTube, give it five stars on iTunes, support it on Patreon, or simply connect with me on Twitter at Lex Friedman, spelled F R I D M A N.  And now, here's my conversation with Michio Kaku.  You've mentioned that we just might make contact with aliens or at least hear from them within this century.  Can you elaborate on your intuition behind that optimism? Well, this is pure speculation, of course.  Of course.  Given the fact that we've already identified 4,000 exoplanets orbiting other stars, and we have a census of the Milky Way galaxy for the first time, we know that on average, every single star, on average, has a planet going around it, and about one fifth or so of them have Earth sized planets going around them.</td>\n",
       "      <td>False</td>\n",
       "      <td>0</td>\n",
       "      <td>[Artificial Intelligence Podcast/ORG, YouTube/ORG, iTunes/ORG, Lex Friedman/PERSON, Michio Kaku/PERSON, Milky Way/LOC, Earth/LOC]</td>\n",
       "      <td>{'ORG': ['Artificial Intelligence Podcast', 'YouTube', 'iTunes'], 'PERSON': ['Lex Friedman', 'Michio Kaku'], 'LOC': ['Milky Way', 'Earth']}</td>\n",
       "    </tr>\n",
       "  </tbody>\n",
       "</table>\n",
       "</div>"
      ],
      "text/plain": [
       "          timestamp   \n",
       "group                 \n",
       "0      00:00:00.000  \\\n",
       "1      00:00:56.640   \n",
       "\n",
       "                                                                                                                                                                                                                                                                                                                                                                                                                                                                                                                                                                                                                                                                                                                                                                                                                                                                                                                               text   \n",
       "group                                                                                                                                                                                                                                                                                                                                                                                                                                                                                                                                                                                                                                                                                                                                                                                                                                                                                                                                 \n",
       "0       The following is a conversation with Michio Kaku.  He's a theoretical physicist, futurist, and professor at the City College of New York.  He's the author of many fascinating books that explore the nature of our reality and the future of our civilization.  They include Einstein's Cosmos, Physics of the Impossible, Future of the Mind, Parallel Worlds, and his latest, The Future of Humanity, Terraforming Mars Interstellar Travel, Immortality, and Our Destiny Beyond Earth.  I think it's beautiful and important when a scientific mind can fearlessly explore through conversation subjects just outside of our understanding.  That, to me, is where artificial intelligence is today, just outside of our understanding, a place we have to reach for if we're to uncover the mysteries of the human mind and build human level and superhuman level AI systems that transform our world for the better.  \\\n",
       "1                                                                                               This is the Artificial Intelligence Podcast.  If you enjoy it, subscribe on YouTube, give it five stars on iTunes, support it on Patreon, or simply connect with me on Twitter at Lex Friedman, spelled F R I D M A N.  And now, here's my conversation with Michio Kaku.  You've mentioned that we just might make contact with aliens or at least hear from them within this century.  Can you elaborate on your intuition behind that optimism? Well, this is pure speculation, of course.  Of course.  Given the fact that we've already identified 4,000 exoplanets orbiting other stars, and we have a census of the Milky Way galaxy for the first time, we know that on average, every single star, on average, has a planet going around it, and about one fifth or so of them have Earth sized planets going around them.   \n",
       "\n",
       "       is_book_related book_candidates   \n",
       "group                                    \n",
       "0                 True               0  \\\n",
       "1                False               0   \n",
       "\n",
       "                                                                                                                                                                                                                                                                       named_entities   \n",
       "group                                                                                                                                                                                                                                                                                   \n",
       "0      [Michio Kaku/PERSON, City College of New York/ORG, Einstein/PERSON, Cosmos/WORK_OF_ART, Physics of the Impossible/WORK_OF_ART, Future of the Mind/WORK_OF_ART, Parallel Worlds/WORK_OF_ART, Future of Humanity/WORK_OF_ART, Terraforming Mars Interstellar Travel/WORK_OF_ART]  \\\n",
       "1                                                                                                                                                   [Artificial Intelligence Podcast/ORG, YouTube/ORG, iTunes/ORG, Lex Friedman/PERSON, Michio Kaku/PERSON, Milky Way/LOC, Earth/LOC]   \n",
       "\n",
       "                                                                                                                                                                                                                                named_entities_dict  \n",
       "group                                                                                                                                                                                                                                                \n",
       "0      {'PERSON': ['Michio Kaku', 'Einstein'], 'ORG': ['City College of New York'], 'WORK_OF_ART': ['Cosmos', 'Physics of the Impossible', 'Future of the Mind', 'Parallel Worlds', 'Future of Humanity', 'Terraforming Mars Interstellar Travel']}  \n",
       "1                                                                                                       {'ORG': ['Artificial Intelligence Podcast', 'YouTube', 'iTunes'], 'PERSON': ['Lex Friedman', 'Michio Kaku'], 'LOC': ['Milky Way', 'Earth']}  "
      ]
     },
     "execution_count": 31,
     "metadata": {},
     "output_type": "execute_result"
    }
   ],
   "source": [
    "grouped_transcript_df.head(2)"
   ]
  },
  {
   "cell_type": "code",
   "execution_count": 32,
   "metadata": {},
   "outputs": [],
   "source": [
    "# Convert list to string separated by commas\n",
    "def list_to_str(lst):\n",
    "    \"\"\"\n",
    "    This function takes a list of strings and converts it into a single string, with elements separated by commas.\n",
    "\n",
    "    Parameters:\n",
    "    lst (list or str): The input list or string to be formatted.\n",
    "\n",
    "    Returns:\n",
    "    str: The formatted string if the input is a list of strings, otherwise the input itself.\n",
    "    \"\"\"\n",
    "    if isinstance(lst, list):\n",
    "        if len(lst) > 1:\n",
    "            return ', '.join(lst[:-1]) + ', and ' + lst[-1]\n",
    "        elif lst:\n",
    "            return lst[0]\n",
    "    return lst\n",
    "\n",
    "# Then generate the new 'named_entities' column\n",
    "def entities_plain_txt(row):\n",
    "    \"\"\"\n",
    "    Converts a dictionary of entity types and entities into a plain text.\n",
    "\n",
    "    Parameters:\n",
    "    row (dict): Dictionary where keys are entity types and values are lists of entities.\n",
    "\n",
    "    Returns:\n",
    "    str: A formatted string that lists each entity type and its entities.\n",
    "    \"\"\"\n",
    "    output = \"\"\n",
    "    for entity_type, entities in row.items():\n",
    "        entities_str = list_to_str(entities)\n",
    "        output += f'{entity_type.title()}: {entities_str}\\n'\n",
    "    return output"
   ]
  },
  {
   "cell_type": "code",
   "execution_count": 33,
   "metadata": {},
   "outputs": [],
   "source": [
    "grouped_transcript_df['named_entities'] = grouped_transcript_df['named_entities_dict'].apply(entities_plain_txt)"
   ]
  },
  {
   "cell_type": "code",
   "execution_count": 34,
   "metadata": {},
   "outputs": [],
   "source": [
    "# Concatenate text, named entities, and book candidates into a single column\n",
    "final_text = grouped_transcript_df.apply(lambda row: f\"{row['text']}\\n\\n\" \\\n",
    "                                            f\"{row['named_entities']}\\n\\n\", axis=1)\n",
    "                                            #f\"# Does the script contain books related conten:\\n{str(row['is_book_related'])}\\n\\n\" \\\n",
    "                                            #f\"# Books mentioned in the script:\\n{str(row['book_candidates'])}\"\n",
    "# creating the new DataFrame\n",
    "df_final = pd.DataFrame({\n",
    "    'timestamp': grouped_transcript_df['timestamp'],\n",
    "    'text': final_text\n",
    "})"
   ]
  },
  {
   "cell_type": "code",
   "execution_count": 35,
   "metadata": {},
   "outputs": [
    {
     "data": {
      "text/html": [
       "<div>\n",
       "<style scoped>\n",
       "    .dataframe tbody tr th:only-of-type {\n",
       "        vertical-align: middle;\n",
       "    }\n",
       "\n",
       "    .dataframe tbody tr th {\n",
       "        vertical-align: top;\n",
       "    }\n",
       "\n",
       "    .dataframe thead th {\n",
       "        text-align: right;\n",
       "    }\n",
       "</style>\n",
       "<table border=\"1\" class=\"dataframe\">\n",
       "  <thead>\n",
       "    <tr style=\"text-align: right;\">\n",
       "      <th></th>\n",
       "      <th>timestamp</th>\n",
       "      <th>text</th>\n",
       "    </tr>\n",
       "    <tr>\n",
       "      <th>group</th>\n",
       "      <th></th>\n",
       "      <th></th>\n",
       "    </tr>\n",
       "  </thead>\n",
       "  <tbody>\n",
       "    <tr>\n",
       "      <th>0</th>\n",
       "      <td>00:00:00.000</td>\n",
       "      <td>The following is a conversation with Michio Kaku.  He's a theoretical physicist, futurist, and professor at the City College of New York.  He's the author of many fascinating books that explore the nature of our reality and the future of our civilization.  They include Einstein's Cosmos, Physics of the Impossible, Future of the Mind, Parallel Worlds, and his latest, The Future of Humanity, Terraforming Mars Interstellar Travel, Immortality, and Our Destiny Beyond Earth.  I think it's beautiful and important when a scientific mind can fearlessly explore through conversation subjects just outside of our understanding.  That, to me, is where artificial intelligence is today, just outside of our understanding, a place we have to reach for if we're to uncover the mysteries of the human mind and build human level and superhuman level AI systems that transform our world for the better.\\n\\nPerson: Michio Kaku, and Einstein\\nOrg: City College of New York\\nWork_Of_Art: Cosmos, Physics of th...</td>\n",
       "    </tr>\n",
       "    <tr>\n",
       "      <th>1</th>\n",
       "      <td>00:00:56.640</td>\n",
       "      <td>This is the Artificial Intelligence Podcast.  If you enjoy it, subscribe on YouTube, give it five stars on iTunes, support it on Patreon, or simply connect with me on Twitter at Lex Friedman, spelled F R I D M A N.  And now, here's my conversation with Michio Kaku.  You've mentioned that we just might make contact with aliens or at least hear from them within this century.  Can you elaborate on your intuition behind that optimism? Well, this is pure speculation, of course.  Of course.  Given the fact that we've already identified 4,000 exoplanets orbiting other stars, and we have a census of the Milky Way galaxy for the first time, we know that on average, every single star, on average, has a planet going around it, and about one fifth or so of them have Earth sized planets going around them.\\n\\nOrg: Artificial Intelligence Podcast, YouTube, and iTunes\\nPerson: Lex Friedman, and Michio Kaku\\nLoc: Milky Way, and Earth\\n\\n\\n</td>\n",
       "    </tr>\n",
       "  </tbody>\n",
       "</table>\n",
       "</div>"
      ],
      "text/plain": [
       "          timestamp   \n",
       "group                 \n",
       "0      00:00:00.000  \\\n",
       "1      00:00:56.640   \n",
       "\n",
       "                                                                                                                                                                                                                                                                                                                                                                                                                                                                                                                                                                                                                                                                                                                                                                                                                                                                                                                                                                                                                                          text  \n",
       "group                                                                                                                                                                                                                                                                                                                                                                                                                                                                                                                                                                                                                                                                                                                                                                                                                                                                                                                                                                                                                                           \n",
       "0       The following is a conversation with Michio Kaku.  He's a theoretical physicist, futurist, and professor at the City College of New York.  He's the author of many fascinating books that explore the nature of our reality and the future of our civilization.  They include Einstein's Cosmos, Physics of the Impossible, Future of the Mind, Parallel Worlds, and his latest, The Future of Humanity, Terraforming Mars Interstellar Travel, Immortality, and Our Destiny Beyond Earth.  I think it's beautiful and important when a scientific mind can fearlessly explore through conversation subjects just outside of our understanding.  That, to me, is where artificial intelligence is today, just outside of our understanding, a place we have to reach for if we're to uncover the mysteries of the human mind and build human level and superhuman level AI systems that transform our world for the better.\\n\\nPerson: Michio Kaku, and Einstein\\nOrg: City College of New York\\nWork_Of_Art: Cosmos, Physics of th...  \n",
       "1                                                                     This is the Artificial Intelligence Podcast.  If you enjoy it, subscribe on YouTube, give it five stars on iTunes, support it on Patreon, or simply connect with me on Twitter at Lex Friedman, spelled F R I D M A N.  And now, here's my conversation with Michio Kaku.  You've mentioned that we just might make contact with aliens or at least hear from them within this century.  Can you elaborate on your intuition behind that optimism? Well, this is pure speculation, of course.  Of course.  Given the fact that we've already identified 4,000 exoplanets orbiting other stars, and we have a census of the Milky Way galaxy for the first time, we know that on average, every single star, on average, has a planet going around it, and about one fifth or so of them have Earth sized planets going around them.\\n\\nOrg: Artificial Intelligence Podcast, YouTube, and iTunes\\nPerson: Lex Friedman, and Michio Kaku\\nLoc: Milky Way, and Earth\\n\\n\\n  "
      ]
     },
     "execution_count": 35,
     "metadata": {},
     "output_type": "execute_result"
    }
   ],
   "source": [
    "df_final.head(2)"
   ]
  },
  {
   "cell_type": "code",
   "execution_count": 36,
   "metadata": {},
   "outputs": [],
   "source": [
    "df_final.to_csv('data\\michio_kaku_transcript.csv', index=False)"
   ]
  },
  {
   "cell_type": "markdown",
   "metadata": {},
   "source": [
    "## Quesion answering with LangChain \n",
    "Question answering over documents consists of four steps:\n",
    "\n",
    "1. Create an index : There are three main steps going on after the documents are loaded:\n",
    "    * Splitting documents into chunks (here is not necessary because the documents/text is not too long)\n",
    "    * Creating embeddings for each document\n",
    "    * Storing documents and embeddings in a vectorstore\n",
    "\n",
    "\n",
    "\n",
    "2. Create a Retriever from that index\n",
    "3. Create a question answering chain\n",
    "\n",
    "4. Ask questions!\n",
    "---\n",
    "* See also: \n",
    "    * [LangChain Documentation](https://python.langchain.com/en/latest/modules/indexes/getting_started.html)\n",
    "    * [Medium](https://towardsdatascience.com/4-ways-of-question-answering-in-langchain-188c6707cc5a) \n",
    "    * [LangChain Documentaion long example](https://python.langchain.com/en/latest/modules/chains/index_examples/question_answering.html)"
   ]
  },
  {
   "cell_type": "code",
   "execution_count": 37,
   "metadata": {},
   "outputs": [],
   "source": [
    "import openai\n",
    "from dotenv import load_dotenv, find_dotenv\n",
    "import os\n",
    "\n",
    "_ = load_dotenv(find_dotenv())  # add .env to .gitignore\n",
    "openai.api_key = os.getenv(\"OPENAI_API_KEY\")"
   ]
  },
  {
   "cell_type": "code",
   "execution_count": 38,
   "metadata": {},
   "outputs": [],
   "source": [
    "from langchain.chains import RetrievalQA\n",
    "from langchain.chat_models import ChatOpenAI\n",
    "from langchain.document_loaders import CSVLoader \n",
    "from langchain.vectorstores import DocArrayInMemorySearch\n",
    "from IPython.display import display, Markdown\n",
    "# Import an index to create a vectorstore\n",
    "from langchain.indexes import VectorstoreIndexCreator"
   ]
  },
  {
   "cell_type": "code",
   "execution_count": 39,
   "metadata": {},
   "outputs": [],
   "source": [
    "# Load csv data with a single row per document.\n",
    "file = 'data\\michio_kaku_transcript.csv'\n",
    "loader = CSVLoader(file_path=file, encoding='utf-8')\n",
    "\n",
    "docs = loader.load()"
   ]
  },
  {
   "cell_type": "markdown",
   "metadata": {},
   "source": [
    "Each document represents one row of the CSV file. Every row is converted into a key/value pair and outputted to a new line in the document’s ``page_content``."
   ]
  },
  {
   "cell_type": "code",
   "execution_count": 40,
   "metadata": {},
   "outputs": [
    {
     "data": {
      "text/plain": [
       "Document(page_content=\"timestamp: 00:00:00.000\\ntext: The following is a conversation with Michio Kaku.  He's a theoretical physicist, futurist, and professor at the City College of New York.  He's the author of many fascinating books that explore the nature of our reality and the future of our civilization.  They include Einstein's Cosmos, Physics of the Impossible, Future of the Mind, Parallel Worlds, and his latest, The Future of Humanity, Terraforming Mars Interstellar Travel, Immortality, and Our Destiny Beyond Earth.  I think it's beautiful and important when a scientific mind can fearlessly explore through conversation subjects just outside of our understanding.  That, to me, is where artificial intelligence is today, just outside of our understanding, a place we have to reach for if we're to uncover the mysteries of the human mind and build human level and superhuman level AI systems that transform our world for the better.\\n\\nPerson: Michio Kaku, and Einstein\\nOrg: City College of New York\\nWork_Of_Art: Cosmos, Physics of the Impossible, Future of the Mind, Parallel Worlds, Future of Humanity, and Terraforming Mars Interstellar Travel\", metadata={'source': 'data\\\\michio_kaku_transcript.csv', 'row': 0})"
      ]
     },
     "execution_count": 40,
     "metadata": {},
     "output_type": "execute_result"
    }
   ],
   "source": [
    "docs[0]"
   ]
  },
  {
   "cell_type": "code",
   "execution_count": 41,
   "metadata": {},
   "outputs": [],
   "source": [
    "# Select which embeddings we want to use\n",
    "from langchain.embeddings import OpenAIEmbeddings\n",
    "embeddings = OpenAIEmbeddings()"
   ]
  },
  {
   "cell_type": "code",
   "execution_count": 42,
   "metadata": {},
   "outputs": [],
   "source": [
    "# Create a vectorstore from documents and embeddings\n",
    "db = DocArrayInMemorySearch.from_documents(\n",
    "    docs,      # list of documents\n",
    "    embeddings # embedding object\n",
    ")"
   ]
  },
  {
   "cell_type": "code",
   "execution_count": 43,
   "metadata": {},
   "outputs": [
    {
     "data": {
      "text/plain": [
       "[Document(page_content=\"timestamp: 00:46:49.520\\ntext: That doesn't mean string theory is correct.  It could very well be wrong, but right now it's the only game in town.  Some people come up to me and say, ''Professor, I don't believe in string theory.  Give me an alternative.'' And I tell them there is none.  Get used to it.  It's the best theory we got.  It's the only theory we have.  Do you see, you know, the strings kind of inspire a view, as did atoms and particles and quarks, but especially strings inspire a view of a universe as a kind of information processing system, as a computer of sorts.  Do you see the universe in this way? No.\", metadata={'source': 'data\\\\michio_kaku_transcript.csv', 'row': 50}),\n",
       " Document(page_content=\"timestamp: 00:06:35.400\\ntext: Multiverse, okay.  I'm a quantum physicist, and we quantum physicists don't believe that the Big Bang happened once.  That would violate the Heisenberg uncertainty principle.  And that means that there could be multiple bangs happening all the time.  Even as we speak today, universes are being created, and that fits the data.  The inflationary universe is a quantum theory.  So there's a certain finite probability that universes are being created all the time.  And for me, this is actually rather aesthetically pleasing because I was raised as a Presbyterian, but my parents were Buddhists.  And there's two diametrically opposed ideas about the universe.  In Buddhism, there's only nirvana.  There's no beginning, there's no end, there's only timelessness.\\n\\nEvent: Big Bang\\nPerson: Heisenberg\\nNorp: Presbyterian, and Buddhists\\nOrg: Buddhism\", metadata={'source': 'data\\\\michio_kaku_transcript.csv', 'row': 7}),\n",
       " Document(page_content=\"timestamp: 00:09:23.720\\ntext: That's such a beautiful picture of our incredibly mysterious existence.  So is that humbling to you? Exciting, the idea of multiverses? I don't even know how to even begin to wrap my mind around it.  It's exciting for me because what I do for a living is string theory.  That's my day job.  I get paid by the city of New York to work on string theory.  And you see, string theory is a multiverse theory.  So people say, first of all, what is string theory? String theory simply says that all the particles we see in nature, the electron, the proton, the quarks, what have you, are nothing but vibrations on a musical string, on a tiny, tiny little string.  You know, G. Robert Oppenheimer, the creator of the atomic bomb, was so frustrated in the 1950s with all these subatomic particles being created in our atom smashers that he announced, he announced one day that the Nobel Prize in physics should go to the physicist who does not discover a new particle that year.\\n\\nGpe: New York\\nPerson: G. Robert Oppenheimer\\nWork_Of_Art: Nobel Prize\", metadata={'source': 'data\\\\michio_kaku_transcript.csv', 'row': 10}),\n",
       " Document(page_content=\"timestamp: 00:05:39.760\\ntext: So type four, you're saying being able to harness sort of like dark energy, something that permeates the entire universe.  So be able to plug into the entire universe as a source of energy.  That's right.  And dark energy is the energy of the Big Bang.  It's why the galaxies are being pushed apart.  It's the energy of nothing.  The more nothing you have, the more dark energy that's repulsive.  And so the acceleration of the universe is accelerating because the more you have, the more you can have.  And that, of course, is by definition an exponential curve.  It's called a de Sitter expansion, and that's the current state of the universe.  And then type five, would that be able to seek energy sources somehow outside of our universe? And how crazy is that idea? Yeah, type five will be the multiverse.\\n\\nEvent: Big Bang\", metadata={'source': 'data\\\\michio_kaku_transcript.csv', 'row': 6})]"
      ]
     },
     "execution_count": 43,
     "metadata": {},
     "output_type": "execute_result"
    }
   ],
   "source": [
    "# Find similar documents\n",
    "\n",
    "\n",
    "query = f\"What is the inflationary universe and how it differentiates from the string theovcdfrfdfy?\"\n",
    "\n",
    "similar_docs = db.similarity_search(query)\n",
    "list(similar_docs)"
   ]
  },
  {
   "cell_type": "code",
   "execution_count": 44,
   "metadata": {},
   "outputs": [],
   "source": [
    "# Define LLM that recieves a query and generates a response\n",
    "llm = ChatOpenAI(temperature = 0.0, model_name='gpt-3.5-turbo-0613')"
   ]
  },
  {
   "cell_type": "code",
   "execution_count": 45,
   "metadata": {},
   "outputs": [
    {
     "data": {
      "text/plain": [
       "\"timestamp: 00:46:49.520\\ntext: That doesn't mean string theory is correct.  It could very well be wrong, but right now it's the only game in town.  Some people come up to me and say, ''Professor, I don't believe in string theory.  Give me an alternative.'' And I tell them there is none.  Get used to it.  It's the best theory we got.  It's the only theory we have.  Do you see, you know, the strings kind of inspire a view, as did atoms and particles and quarks, but especially strings inspire a view of a universe as a kind of information processing system, as a computer of sorts.  Do you see the universe in this way? No.timestamp: 00:06:35.400\\ntext: Multiverse, okay.  I'm a quantum physicist, and we quantum physicists don't believe that the Big Bang happened once.  That would violate the Heisenberg uncertainty principle.  And that means that there could be multiple bangs happening all the time.  Even as we speak today, universes are being created, and that fits the data.  The inflationary universe is a quantum theory.  So there's a certain finite probability that universes are being created all the time.  And for me, this is actually rather aesthetically pleasing because I was raised as a Presbyterian, but my parents were Buddhists.  And there's two diametrically opposed ideas about the universe.  In Buddhism, there's only nirvana.  There's no beginning, there's no end, there's only timelessness.\\n\\nEvent: Big Bang\\nPerson: Heisenberg\\nNorp: Presbyterian, and Buddhists\\nOrg: Buddhismtimestamp: 00:09:23.720\\ntext: That's such a beautiful picture of our incredibly mysterious existence.  So is that humbling to you? Exciting, the idea of multiverses? I don't even know how to even begin to wrap my mind around it.  It's exciting for me because what I do for a living is string theory.  That's my day job.  I get paid by the city of New York to work on string theory.  And you see, string theory is a multiverse theory.  So people say, first of all, what is string theory? String theory simply says that all the particles we see in nature, the electron, the proton, the quarks, what have you, are nothing but vibrations on a musical string, on a tiny, tiny little string.  You know, G. Robert Oppenheimer, the creator of the atomic bomb, was so frustrated in the 1950s with all these subatomic particles being created in our atom smashers that he announced, he announced one day that the Nobel Prize in physics should go to the physicist who does not discover a new particle that year.\\n\\nGpe: New York\\nPerson: G. Robert Oppenheimer\\nWork_Of_Art: Nobel Prizetimestamp: 00:05:39.760\\ntext: So type four, you're saying being able to harness sort of like dark energy, something that permeates the entire universe.  So be able to plug into the entire universe as a source of energy.  That's right.  And dark energy is the energy of the Big Bang.  It's why the galaxies are being pushed apart.  It's the energy of nothing.  The more nothing you have, the more dark energy that's repulsive.  And so the acceleration of the universe is accelerating because the more you have, the more you can have.  And that, of course, is by definition an exponential curve.  It's called a de Sitter expansion, and that's the current state of the universe.  And then type five, would that be able to seek energy sources somehow outside of our universe? And how crazy is that idea? Yeah, type five will be the multiverse.\\n\\nEvent: Big Bang\""
      ]
     },
     "execution_count": 45,
     "metadata": {},
     "output_type": "execute_result"
    }
   ],
   "source": [
    "# Combine the content of retrieved documents into a single string\n",
    "qdocs = \"\".join([similar_docs[i].page_content for i in range(len(similar_docs))])\n",
    "qdocs"
   ]
  },
  {
   "cell_type": "code",
   "execution_count": 46,
   "metadata": {},
   "outputs": [
    {
     "data": {
      "text/markdown": [
       "The inflationary universe is a quantum theory that suggests that multiple universes are constantly being created, even as we speak. This theory is supported by the data and fits with the concept of the Big Bang violating the Heisenberg uncertainty principle. On the other hand, string theory proposes that all particles in nature are vibrations on tiny strings. While both theories involve the concept of multiple universes, they differ in their fundamental explanations of the nature of particles and the universe."
      ],
      "text/plain": [
       "<IPython.core.display.Markdown object>"
      ]
     },
     "metadata": {},
     "output_type": "display_data"
    }
   ],
   "source": [
    "# Pass the combination of retrieved documents into a prompt to get an answer from the LLM\n",
    "response = llm.call_as_llm(f\"{qdocs} Question: {query}\") \n",
    "\n",
    "# Pass the combination of retrieved documents into a prompt to get an answer from the LLM\n",
    "#response = llm.call_as_llm(f\"{docs[0]} Question: Please list all books mentioned in the script.\") \n",
    "\n",
    "display(Markdown(response))"
   ]
  },
  {
   "cell_type": "markdown",
   "metadata": {},
   "source": [
    "Or use Retrieval (i.e., retrieve the most relevant chunk of text and feed those to the LLM) method by replacing the last two steps with:"
   ]
  },
  {
   "cell_type": "code",
   "execution_count": null,
   "metadata": {},
   "outputs": [],
   "source": [
    "# split the documents into chunks\n",
    "text_splitter = CharacterTextSplitter(chunk_size=1000, chunk_overlap=0)\n",
    "texts = text_splitter.split_documents(documents)"
   ]
  },
  {
   "cell_type": "code",
   "execution_count": 47,
   "metadata": {},
   "outputs": [],
   "source": [
    "# Expose this index in a retriever interface\n",
    "retriever = db.as_retriever()\n",
    "\n",
    "# Define LLM that recieves a query and generates a response\n",
    "llm = ChatOpenAI(temperature = 0.0, model_name='gpt-3.5-turbo-0613')\n",
    "\n",
    "# Create a chain and use it to answer questions!\n",
    "qa_stuff = RetrievalQA.from_chain_type(\n",
    "    llm=llm, \n",
    "    chain_type=\"stuff\", \n",
    "    retriever=retriever, \n",
    "    verbose=False\n",
    ")"
   ]
  },
  {
   "cell_type": "code",
   "execution_count": 49,
   "metadata": {},
   "outputs": [
    {
     "data": {
      "text/markdown": [
       "The inflationary universe is a theory in cosmology that suggests that the universe underwent a rapid expansion in its early stages, shortly after the Big Bang. This expansion is believed to have occurred due to a hypothetical field called the inflaton field. The inflationary universe theory helps explain certain observations, such as the uniformity of the cosmic microwave background radiation.\n",
       "\n",
       "On the other hand, string theory is a theoretical framework in physics that attempts to unify all the fundamental forces and particles in the universe. It proposes that the fundamental building blocks of the universe are not point-like particles, but tiny vibrating strings. String theory also suggests the existence of extra dimensions beyond the three spatial dimensions we are familiar with.\n",
       "\n",
       "While both the inflationary universe theory and string theory are attempts to understand the fundamental nature of the universe, they address different aspects. The inflationary universe theory focuses on the early expansion of the universe, while string theory aims to provide a unified description of all the forces and particles in the universe."
      ],
      "text/plain": [
       "<IPython.core.display.Markdown object>"
      ]
     },
     "metadata": {},
     "output_type": "display_data"
    }
   ],
   "source": [
    "query = f\"What is the inflationary universe and how it differentiates from the string theory?\"\n",
    "\n",
    "\n",
    "response = qa_stuff.run(query)\n",
    "display(Markdown(response))"
   ]
  },
  {
   "cell_type": "markdown",
   "metadata": {},
   "source": [
    "# Books Identification\n",
    "\n",
    "Why identifying book titles can be difficult?\n",
    "* The book may contain persons names which are not authors.\n",
    "* The book titles are difficult to identify as such in general. For example \"the Republic\" might or might not be about the book, and if the only indication the model can use is the capitalization it's probably going to make some errors.\n",
    "\n",
    "To be clear, I think it could work to some extent but it would probably make quite a lot of errors.\n",
    "\n",
    "* On the other hand you could obtain a database of books, for instance from Wikipedia (there might be better resources), and you could use this in two ways:\n",
    "\n",
    "1. Directly identify the books/authors in the documents by simple string matching. I would imagine that even if the coverage of the resource is not perfect, this method would easily catch a majority of occurrences.\n",
    "2. In case the above method is not sufficient, it provides you with some good training data from which you could train a NER model in order collect titles which don't exist in the database. Note that there might be issues due to the unknown books being labelled as negative in the training data, so ideally you would have to go manually through the training data and annotate the remaining cases."
   ]
  },
  {
   "cell_type": "markdown",
   "metadata": {},
   "source": [
    "Here, I will use the question answering chain ``load_qa_chain`` (higher cost and possible token limit problem):"
   ]
  },
  {
   "cell_type": "code",
   "execution_count": 91,
   "metadata": {},
   "outputs": [],
   "source": [
    "from langchain.chains.question_answering import load_qa_chain\n",
    "from langchain.chat_models import ChatOpenAI\n",
    "\n",
    "llm = ChatOpenAI(model_name='gpt-3.5-turbo-16k', temperature=0.0)\n",
    "chain = load_qa_chain(llm=llm, chain_type=\"stuff\")"
   ]
  },
  {
   "cell_type": "code",
   "execution_count": 49,
   "metadata": {},
   "outputs": [],
   "source": [
    "from langchain.output_parsers import CommaSeparatedListOutputParser\n",
    "from langchain.prompts import PromptTemplate\n",
    "\n",
    "\n",
    "output_parser = CommaSeparatedListOutputParser()"
   ]
  },
  {
   "cell_type": "code",
   "execution_count": 92,
   "metadata": {},
   "outputs": [],
   "source": [
    "format_instructions = output_parser.get_format_instructions()\n",
    "prompt = PromptTemplate(\n",
    "    template=\"List all {subject}.\\n{format_instructions}\",\n",
    "    input_variables=[\"subject\"],\n",
    "    partial_variables={\"format_instructions\": format_instructions}\n",
    ")\n",
    "\n",
    "_input = prompt.format(subject=\"books\")\n",
    "\n",
    "response = chain.run(input_documents=docs, question= _input, format_instructions= format_instructions)\n",
    "response"
   ]
  },
  {
   "cell_type": "code",
   "execution_count": 171,
   "metadata": {},
   "outputs": [
    {
     "data": {
      "text/plain": [
       "[\"Einstein's Cosmos\",\n",
       " 'Physics of the Impossible',\n",
       " 'Future of the Mind',\n",
       " 'Parallel Worlds',\n",
       " 'Future of Humanity',\n",
       " 'Terraforming Mars Interstellar Travel']"
      ]
     },
     "execution_count": 171,
     "metadata": {},
     "output_type": "execute_result"
    }
   ],
   "source": [
    "# Parse the output to get a list of books\n",
    "books_candidates = output_parser.parse(response)\n",
    "books_candidates"
   ]
  },
  {
   "cell_type": "code",
   "execution_count": 172,
   "metadata": {},
   "outputs": [
    {
     "data": {
      "text/plain": [
       "{\"Einstein's Cosmos: How Albert Einstein's Vision Transformed Our Understanding of Space and Time (Great Discoveries)\",\n",
       " 'Parallel Worlds',\n",
       " 'Physics of the Impossible',\n",
       " 'The Future of Humanity',\n",
       " 'The Future of the Mind'}"
      ]
     },
     "execution_count": 172,
     "metadata": {},
     "output_type": "execute_result"
    }
   ],
   "source": [
    "# Get a list of unique book titles\n",
    "books_lst = set([get_book_info(book)['title'] for book in books_candidates])\n",
    "books_lst"
   ]
  },
  {
   "cell_type": "code",
   "execution_count": 173,
   "metadata": {},
   "outputs": [
    {
     "name": "stdout",
     "output_type": "stream",
     "text": [
      "Physics of the Impossible\n",
      "Book title: Physics of the Impossible\n",
      "             Author: ['Michio Kaku']\n",
      "             Description: Physics of the Impossible takes us on a journey to the frontiers of science and beyond, giving us an exhilarating insight into what we can really hope to achieve in the future. Everyday we see that what was once declared 'impossible' by scientists has become part of our everyday lives: fax machines, glass sky-scrapers, gas-powered automobiles and a worldwide communications network. Here internationally bestselling author Micho Kaku confidently hurdles today's frontier of science, revealing the actual possibilities of perpetual motion, force fields, invisibility, ray guns, anti-gravity and anti-matter, teleportation, telepathy, psychokinesis, robots and cyborgs, time travel, zero-point energy, even extraterrestrial life. And he shows how few of these ideas actually violate the laws of physics. Where does the realm of science fiction end? What can we really hope to achieve? 'Anything that is not impossible, is mandatory!' declares Kaku in this lucid, entertaining and enlightening read.\n",
      "             Image: http://books.google.com/books/content?id=zmmQMPAVkxgC&printsec=frontcover&img=1&zoom=1&edge=curl&source=gbs_api\n",
      "             Link: https://play.google.com/store/books/details?id=zmmQMPAVkxgC&source=gbs_api\n",
      "\n",
      "The Future of the Mind\n",
      "Book title: The Future of the Mind\n",
      "             Author: ['Michio Kaku']\n",
      "             Description: Recording memories, mind reading, videotaping our dreams, mind control, avatars, and telekinesis - no longer are these feats of the mind solely the province of overheated science fiction. As Michio Kaku reveals, not only are they possible, but with the latest advances in brain science and recent astonishing breakthroughs in technology, they already exist. In The Future of the Mind, the New York Times-bestselling author takes us on a stunning, provocative and exhilarating tour of the top laboratories around the world to meet the scientists who are already revolutionising the way we think about the brain - and ourselves.\n",
      "             Image: http://books.google.com/books/content?id=YPFevgEACAAJ&printsec=frontcover&img=1&zoom=1&source=gbs_api\n",
      "             Link: http://books.google.de/books?id=YPFevgEACAAJ&dq=The+Future+of+the+Mind&hl=&source=gbs_api\n",
      "\n",
      "Einstein's Cosmos: How Albert Einstein's Vision Transformed Our Understanding of Space and Time (Great Discoveries)\n",
      "Book title: Einstein's Cosmos: How Albert Einstein's Vision Transformed Our Understanding of Space and Time (Great Discoveries)\n",
      "             Author: ['Michio Kaku']\n",
      "             Description: \"A fresh and highly visual tour through Einstein's astonishing legacy.\" —Brian Greene There's no better short book that explains just what Einstein did than Einstein's Cosmos. Keying Einstein's crucial discoveries to the simple mental images that inspired them, Michio Kaku finds a revealing new way to discuss his ideas, and delivers an appealing and always accessible introduction to Einstein's work.\n",
      "             Image: http://books.google.com/books/content?id=YwQl21PeRSwC&printsec=frontcover&img=1&zoom=1&edge=curl&source=gbs_api\n",
      "             Link: https://play.google.com/store/books/details?id=YwQl21PeRSwC&source=gbs_api\n",
      "\n",
      "Parallel Worlds\n",
      "Book title: Parallel Worlds\n",
      "             Author: ['Michio Kaku']\n",
      "             Description: Sheds new light on discoveries that have revolutionized the field of cosmology and transformed understanding of the universe, offering an explanation of the multiverse M-theory and its implications in terms of the fate of our own universe.\n",
      "             Image: http://books.google.com/books/content?id=21NGAAAAYAAJ&printsec=frontcover&img=1&zoom=1&source=gbs_api\n",
      "             Link: http://books.google.de/books?id=21NGAAAAYAAJ&dq=Parallel+Worlds&hl=&source=gbs_api\n",
      "\n",
      "The Future of Humanity\n",
      "Book title: The Future of Humanity\n",
      "             Author: ['Michio Kaku']\n",
      "             Description: Human civilization is on the verge of spreading beyond Earth. More than a possibility, it is becoming a necessity: whether our hand is forced by climate change and resource depletion or whether future catastrophes compel us to abandon Earth, one day we will make our homes among the stars. World-renowned physicist and futurist Michio Kaku explores in rich, accessible detail how humanity might gradually develop a sustainable civilization in outer space. With his trademark storytelling verve, Kaku shows us how science fiction is becoming reality: mind-boggling developments in robotics, nanotechnology, and biotechnology could enable us to build habitable cities on Mars; nearby stars might be reached by microscopic spaceships sailing through space on laser beams; and technology might one day allow us to transcend our physical bodies entirely. With irrepressible enthusiasm and wonder, Dr. Kaku takes readers on a fascinating journey to a future in which humanity could finally fulfil its long-awaited destiny among the stars - and perhaps even achieve immortality.\n",
      "             Image: http://books.google.com/books/content?id=fSw6DwAAQBAJ&printsec=frontcover&img=1&zoom=1&edge=curl&source=gbs_api\n",
      "             Link: https://play.google.com/store/books/details?id=fSw6DwAAQBAJ&source=gbs_api\n",
      "\n"
     ]
    }
   ],
   "source": [
    "for book in books_lst:\n",
    "    print(book)\n",
    "    book_info = get_book_info(book)\n",
    "    print(f\"Book title: {book_info['title']}\\n \\\n",
    "            Author: {book_info['authors']}\\n \\\n",
    "            Description: {book_info['description']}\\n \\\n",
    "            Image: {book_info['imageLinks'].get('thumbnail', 'smallThumbnail')}\\n \\\n",
    "            Link: {book_info['infoLink']}\\n\"\n",
    "    ) "
   ]
  },
  {
   "cell_type": "code",
   "execution_count": null,
   "metadata": {},
   "outputs": [],
   "source": []
  }
 ],
 "metadata": {
  "kernelspec": {
   "display_name": ".venv",
   "language": "python",
   "name": "python3"
  },
  "language_info": {
   "codemirror_mode": {
    "name": "ipython",
    "version": 3
   },
   "file_extension": ".py",
   "mimetype": "text/x-python",
   "name": "python",
   "nbconvert_exporter": "python",
   "pygments_lexer": "ipython3",
   "version": "3.10.5"
  },
  "orig_nbformat": 4
 },
 "nbformat": 4,
 "nbformat_minor": 2
}
